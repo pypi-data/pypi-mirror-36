{
 "cells": [
  {
   "cell_type": "markdown",
   "metadata": {},
   "source": [
    "# Introduction Clustergrammer_Widget2 0.6.2"
   ]
  },
  {
   "cell_type": "code",
   "execution_count": 45,
   "metadata": {},
   "outputs": [],
   "source": [
    "import numpy as np\n",
    "import pandas as pd\n",
    "import clustergrammer_widget2\n",
    "from clustergrammer import *\n",
    "net = Network()"
   ]
  },
  {
   "cell_type": "code",
   "execution_count": 46,
   "metadata": {},
   "outputs": [],
   "source": [
    "net.load_file('rc_two_cats.txt')\n",
    "net.cluster()\n",
    "df = net.export_df()"
   ]
  },
  {
   "cell_type": "code",
   "execution_count": 47,
   "metadata": {},
   "outputs": [
    {
     "data": {
      "text/plain": [
       "(38, 29)"
      ]
     },
     "execution_count": 47,
     "metadata": {},
     "output_type": "execute_result"
    }
   ],
   "source": [
    "df.shape"
   ]
  },
  {
   "cell_type": "code",
   "execution_count": 54,
   "metadata": {},
   "outputs": [],
   "source": [
    "net.load_df(df)\n",
    "net.cluster()\n",
    "net_json = net.export_viz_to_widget()"
   ]
  },
  {
   "cell_type": "markdown",
   "metadata": {},
   "source": [
    "### Visualize Example Gene Expression Toy Dataset"
   ]
  },
  {
   "cell_type": "code",
   "execution_count": 55,
   "metadata": {},
   "outputs": [
    {
     "data": {
      "application/vnd.jupyter.widget-view+json": {
       "model_id": "9e9f05471e14419294c5e3e8db2ed9d9",
       "version_major": 2,
       "version_minor": 0
      },
      "text/plain": [
       "ExampleWidget(network='{\"row_nodes\": [{\"name\": \"Gene: CDK4\", \"ini\": 38, \"clust\": 14, \"rank\": 30, \"rankvar\": 20…"
      ]
     },
     "metadata": {},
     "output_type": "display_data"
    }
   ],
   "source": [
    "w = clustergrammer_widget2.ExampleWidget(network=net_json)\n",
    "w"
   ]
  },
  {
   "cell_type": "code",
   "execution_count": 40,
   "metadata": {},
   "outputs": [
    {
     "data": {
      "application/vnd.jupyter.widget-view+json": {
       "model_id": "c8d0b821a73d4afb867260c474642ed5",
       "version_major": 2,
       "version_minor": 0
      },
      "text/plain": [
       "ExampleWidget(network='{\"row_nodes\": [{\"name\": \"Gene: CDK4\", \"ini\": 38, \"clust\": 7, \"rank\": 30, \"rankvar\": 20,…"
      ]
     },
     "metadata": {},
     "output_type": "display_data"
    }
   ],
   "source": [
    "w = clustergrammer_widget2.ExampleWidget(network=net_json)\n",
    "w"
   ]
  },
  {
   "cell_type": "markdown",
   "metadata": {},
   "source": [
    "### Visualize Random Matrix"
   ]
  },
  {
   "cell_type": "code",
   "execution_count": 7,
   "metadata": {},
   "outputs": [
    {
     "name": "stdout",
     "output_type": "stream",
     "text": [
      "(1000, 1000)\n"
     ]
    }
   ],
   "source": [
    "# generate random matrix\n",
    "num_rows = 1000\n",
    "num_cols = 1000\n",
    "np.random.seed(seed=100)\n",
    "mat = np.random.rand(num_rows, num_cols)\n",
    "\n",
    "# make row and col labels\n",
    "rows = range(num_rows)\n",
    "cols = range(num_cols)\n",
    "rows = [str(i) for i in rows]\n",
    "cols = [str(i) for i in cols]\n",
    "\n",
    "# make dataframe \n",
    "df = pd.DataFrame(data=mat, columns=cols, index=rows)\n",
    "print(df.shape)"
   ]
  },
  {
   "cell_type": "code",
   "execution_count": 8,
   "metadata": {},
   "outputs": [
    {
     "data": {
      "text/html": [
       "<div>\n",
       "<style scoped>\n",
       "    .dataframe tbody tr th:only-of-type {\n",
       "        vertical-align: middle;\n",
       "    }\n",
       "\n",
       "    .dataframe tbody tr th {\n",
       "        vertical-align: top;\n",
       "    }\n",
       "\n",
       "    .dataframe thead th {\n",
       "        text-align: right;\n",
       "    }\n",
       "</style>\n",
       "<table border=\"1\" class=\"dataframe\">\n",
       "  <thead>\n",
       "    <tr style=\"text-align: right;\">\n",
       "      <th></th>\n",
       "      <th>0</th>\n",
       "      <th>1</th>\n",
       "      <th>2</th>\n",
       "      <th>3</th>\n",
       "      <th>4</th>\n",
       "      <th>5</th>\n",
       "      <th>6</th>\n",
       "      <th>7</th>\n",
       "      <th>8</th>\n",
       "      <th>9</th>\n",
       "      <th>...</th>\n",
       "      <th>990</th>\n",
       "      <th>991</th>\n",
       "      <th>992</th>\n",
       "      <th>993</th>\n",
       "      <th>994</th>\n",
       "      <th>995</th>\n",
       "      <th>996</th>\n",
       "      <th>997</th>\n",
       "      <th>998</th>\n",
       "      <th>999</th>\n",
       "    </tr>\n",
       "  </thead>\n",
       "  <tbody>\n",
       "    <tr>\n",
       "      <th>0</th>\n",
       "      <td>0.543405</td>\n",
       "      <td>0.278369</td>\n",
       "      <td>0.424518</td>\n",
       "      <td>0.844776</td>\n",
       "      <td>0.004719</td>\n",
       "      <td>0.121569</td>\n",
       "      <td>0.670749</td>\n",
       "      <td>0.825853</td>\n",
       "      <td>0.136707</td>\n",
       "      <td>0.575093</td>\n",
       "      <td>...</td>\n",
       "      <td>0.616522</td>\n",
       "      <td>0.947579</td>\n",
       "      <td>0.906472</td>\n",
       "      <td>0.965094</td>\n",
       "      <td>0.337621</td>\n",
       "      <td>0.656403</td>\n",
       "      <td>0.291456</td>\n",
       "      <td>0.150869</td>\n",
       "      <td>0.036932</td>\n",
       "      <td>0.597964</td>\n",
       "    </tr>\n",
       "    <tr>\n",
       "      <th>1</th>\n",
       "      <td>0.027732</td>\n",
       "      <td>0.382237</td>\n",
       "      <td>0.953251</td>\n",
       "      <td>0.222199</td>\n",
       "      <td>0.305126</td>\n",
       "      <td>0.819320</td>\n",
       "      <td>0.578470</td>\n",
       "      <td>0.027617</td>\n",
       "      <td>0.954388</td>\n",
       "      <td>0.312139</td>\n",
       "      <td>...</td>\n",
       "      <td>0.630891</td>\n",
       "      <td>0.478955</td>\n",
       "      <td>0.140795</td>\n",
       "      <td>0.329110</td>\n",
       "      <td>0.775616</td>\n",
       "      <td>0.633031</td>\n",
       "      <td>0.105247</td>\n",
       "      <td>0.980898</td>\n",
       "      <td>0.364798</td>\n",
       "      <td>0.778565</td>\n",
       "    </tr>\n",
       "    <tr>\n",
       "      <th>2</th>\n",
       "      <td>0.259444</td>\n",
       "      <td>0.023003</td>\n",
       "      <td>0.654407</td>\n",
       "      <td>0.969216</td>\n",
       "      <td>0.698952</td>\n",
       "      <td>0.032054</td>\n",
       "      <td>0.003295</td>\n",
       "      <td>0.122310</td>\n",
       "      <td>0.729892</td>\n",
       "      <td>0.743647</td>\n",
       "      <td>...</td>\n",
       "      <td>0.243378</td>\n",
       "      <td>0.935069</td>\n",
       "      <td>0.458539</td>\n",
       "      <td>0.943485</td>\n",
       "      <td>0.252805</td>\n",
       "      <td>0.205672</td>\n",
       "      <td>0.300088</td>\n",
       "      <td>0.352887</td>\n",
       "      <td>0.602199</td>\n",
       "      <td>0.478208</td>\n",
       "    </tr>\n",
       "    <tr>\n",
       "      <th>3</th>\n",
       "      <td>0.076735</td>\n",
       "      <td>0.568912</td>\n",
       "      <td>0.400118</td>\n",
       "      <td>0.308898</td>\n",
       "      <td>0.928405</td>\n",
       "      <td>0.234978</td>\n",
       "      <td>0.901869</td>\n",
       "      <td>0.843908</td>\n",
       "      <td>0.627951</td>\n",
       "      <td>0.858074</td>\n",
       "      <td>...</td>\n",
       "      <td>0.068109</td>\n",
       "      <td>0.494339</td>\n",
       "      <td>0.130206</td>\n",
       "      <td>0.538030</td>\n",
       "      <td>0.574568</td>\n",
       "      <td>0.078321</td>\n",
       "      <td>0.847301</td>\n",
       "      <td>0.793289</td>\n",
       "      <td>0.348319</td>\n",
       "      <td>0.966167</td>\n",
       "    </tr>\n",
       "    <tr>\n",
       "      <th>4</th>\n",
       "      <td>0.769620</td>\n",
       "      <td>0.043597</td>\n",
       "      <td>0.191514</td>\n",
       "      <td>0.121186</td>\n",
       "      <td>0.760843</td>\n",
       "      <td>0.623838</td>\n",
       "      <td>0.462855</td>\n",
       "      <td>0.728147</td>\n",
       "      <td>0.939783</td>\n",
       "      <td>0.267626</td>\n",
       "      <td>...</td>\n",
       "      <td>0.645082</td>\n",
       "      <td>0.220585</td>\n",
       "      <td>0.017549</td>\n",
       "      <td>0.155266</td>\n",
       "      <td>0.977466</td>\n",
       "      <td>0.237092</td>\n",
       "      <td>0.768674</td>\n",
       "      <td>0.650803</td>\n",
       "      <td>0.861580</td>\n",
       "      <td>0.108839</td>\n",
       "    </tr>\n",
       "  </tbody>\n",
       "</table>\n",
       "<p>5 rows × 1000 columns</p>\n",
       "</div>"
      ],
      "text/plain": [
       "          0         1         2         3         4         5         6  \\\n",
       "0  0.543405  0.278369  0.424518  0.844776  0.004719  0.121569  0.670749   \n",
       "1  0.027732  0.382237  0.953251  0.222199  0.305126  0.819320  0.578470   \n",
       "2  0.259444  0.023003  0.654407  0.969216  0.698952  0.032054  0.003295   \n",
       "3  0.076735  0.568912  0.400118  0.308898  0.928405  0.234978  0.901869   \n",
       "4  0.769620  0.043597  0.191514  0.121186  0.760843  0.623838  0.462855   \n",
       "\n",
       "          7         8         9    ...          990       991       992  \\\n",
       "0  0.825853  0.136707  0.575093    ...     0.616522  0.947579  0.906472   \n",
       "1  0.027617  0.954388  0.312139    ...     0.630891  0.478955  0.140795   \n",
       "2  0.122310  0.729892  0.743647    ...     0.243378  0.935069  0.458539   \n",
       "3  0.843908  0.627951  0.858074    ...     0.068109  0.494339  0.130206   \n",
       "4  0.728147  0.939783  0.267626    ...     0.645082  0.220585  0.017549   \n",
       "\n",
       "        993       994       995       996       997       998       999  \n",
       "0  0.965094  0.337621  0.656403  0.291456  0.150869  0.036932  0.597964  \n",
       "1  0.329110  0.775616  0.633031  0.105247  0.980898  0.364798  0.778565  \n",
       "2  0.943485  0.252805  0.205672  0.300088  0.352887  0.602199  0.478208  \n",
       "3  0.538030  0.574568  0.078321  0.847301  0.793289  0.348319  0.966167  \n",
       "4  0.155266  0.977466  0.237092  0.768674  0.650803  0.861580  0.108839  \n",
       "\n",
       "[5 rows x 1000 columns]"
      ]
     },
     "execution_count": 8,
     "metadata": {},
     "output_type": "execute_result"
    }
   ],
   "source": [
    "df.head()"
   ]
  },
  {
   "cell_type": "code",
   "execution_count": 9,
   "metadata": {},
   "outputs": [
    {
     "data": {
      "application/vnd.jupyter.widget-view+json": {
       "model_id": "a8ea3524a70f40bfbe92dff1792a72e4",
       "version_major": 2,
       "version_minor": 0
      },
      "text/plain": [
       "ExampleWidget(network='{\"row_nodes\": [{\"name\": \"0\", \"ini\": 1000, \"clust\": 391, \"rank\": 442, \"rankvar\": 355, \"g…"
      ]
     },
     "metadata": {},
     "output_type": "display_data"
    }
   ],
   "source": [
    "net.load_df(df)\n",
    "net.cluster()\n",
    "net_json = net.export_viz_to_widget()\n",
    "w = clustergrammer_widget2.ExampleWidget(network=net_json)\n",
    "w"
   ]
  },
  {
   "cell_type": "code",
   "execution_count": 10,
   "metadata": {},
   "outputs": [],
   "source": [
    "import ipywidgets "
   ]
  },
  {
   "cell_type": "code",
   "execution_count": 11,
   "metadata": {},
   "outputs": [
    {
     "data": {
      "text/plain": [
       "'7.4.1'"
      ]
     },
     "execution_count": 11,
     "metadata": {},
     "output_type": "execute_result"
    }
   ],
   "source": [
    "ipywidgets.__version__"
   ]
  },
  {
   "cell_type": "code",
   "execution_count": null,
   "metadata": {},
   "outputs": [],
   "source": []
  }
 ],
 "metadata": {
  "kernelspec": {
   "display_name": "Python 3",
   "language": "python",
   "name": "python3"
  },
  "language_info": {
   "codemirror_mode": {
    "name": "ipython",
    "version": 3
   },
   "file_extension": ".py",
   "mimetype": "text/x-python",
   "name": "python",
   "nbconvert_exporter": "python",
   "pygments_lexer": "ipython3",
   "version": "3.6.5"
  }
 },
 "nbformat": 4,
 "nbformat_minor": 2
}
