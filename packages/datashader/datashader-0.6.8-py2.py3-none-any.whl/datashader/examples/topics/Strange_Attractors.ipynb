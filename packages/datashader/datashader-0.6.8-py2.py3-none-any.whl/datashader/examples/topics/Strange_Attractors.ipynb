{
 "cells": [
  {
   "cell_type": "markdown",
   "metadata": {},
   "source": [
    "An [attractor](https://en.wikipedia.org/wiki/Attractor#Strange_attractor) is a set of numerical values to which a numerical system tends to evolve. An attractor is called a [strange attractor](https://en.wikipedia.org/wiki/Attractor#Strange_attractor) if the resulting pattern has a fractal structure.\n",
    "\n",
    "# Clifford Attractors\n",
    "\n",
    "For example, a [Clifford Attractor](http://paulbourke.net/fractals/clifford) is a strange attractor defined by two iterative equations that determine discrete steps in the path of a particle across a 2D space, given a starting point _(x0,y0)_ and the values of four parameters _(a,b,c,d)_:\n",
    "\n",
    "\\begin{equation}\n",
    "x_{n +1} = \\sin(a y_{n}) + c \\cos(a x_{n})\\\\\n",
    "y_{n +1} = \\sin(b x_{n}) + d \\cos(b y_{n})\n",
    "\\end{equation}\n",
    "\n",
    "At each time step, the equations define the location for the following time step, and the accumulated locations show the areas of the 2D plane most commonly visited by the imaginary particle.  \n",
    "\n",
    "It's easy to calculate these values in Python using [Numba](http://numba.pydata.org) and to visualize them with [Datashader](http://datashader.org), using code and parameters adapted from [L&aacute;zaro Alonso](https://lazarusa.github.io/Webpage/codepython2.html), [François Pacull](https://aetperf.github.io/2018/08/29/Plotting-Hopalong-attractor-with-Datashader-and-Numba.html), and [Jason Rampe](https://softologyblog.wordpress.com/2017/03/04/2d-strange-attractors).\n",
    "\n",
    "First, we define the iterative attractor equation:"
   ]
  },
  {
   "cell_type": "code",
   "execution_count": null,
   "metadata": {},
   "outputs": [],
   "source": [
    "import numpy as np, pandas as pd, datashader as ds\n",
    "from datashader import transfer_functions as tf\n",
    "from datashader.colors import inferno, viridis\n",
    "from numba import jit\n",
    "\n",
    "@jit\n",
    "def clifford(a, b, c, d, x, y):\n",
    "    return np.sin(a * y) + c * np.cos(a * x), \\\n",
    "           np.sin(b * x) + d * np.cos(b * y)"
   ]
  },
  {
   "cell_type": "markdown",
   "metadata": {},
   "source": [
    "We then evaluate this equation many times, creating a set of (x,y) coordinates visited. The @jit here and above is optional, but it makes the code 50x faster."
   ]
  },
  {
   "cell_type": "code",
   "execution_count": null,
   "metadata": {},
   "outputs": [],
   "source": [
    "n=10000000\n",
    "\n",
    "@jit\n",
    "def trajectory(fn, a, b, c, d, x0=0, y0=0, n=n):\n",
    "    x, y = np.zeros(n), np.zeros(n)\n",
    "    x[0], y[0] = x0, y0\n",
    "    for i in np.arange(n-1):\n",
    "        x[i+1], y[i+1] = fn(a, b, c, d, x[i], y[i])\n",
    "    return pd.DataFrame(dict(x=x,y=y))"
   ]
  },
  {
   "cell_type": "code",
   "execution_count": null,
   "metadata": {},
   "outputs": [],
   "source": [
    "%%time\n",
    "df = trajectory(clifford, -1.3, -1.3, -1.8, -1.9)"
   ]
  },
  {
   "cell_type": "code",
   "execution_count": null,
   "metadata": {},
   "outputs": [],
   "source": [
    "df.tail()"
   ]
  },
  {
   "cell_type": "markdown",
   "metadata": {},
   "source": [
    "We can now aggregate these coordinates into a 2D grid:"
   ]
  },
  {
   "cell_type": "code",
   "execution_count": null,
   "metadata": {},
   "outputs": [],
   "source": [
    "%%time\n",
    "\n",
    "cvs = ds.Canvas(plot_width = 700, plot_height = 700)\n",
    "agg = cvs.points(df, 'x', 'y')"
   ]
  },
  {
   "cell_type": "markdown",
   "metadata": {},
   "source": [
    "So that we can see the grid, we need to turn the integer count-per-cell values into colors, such as greyscale values from white to black:"
   ]
  },
  {
   "cell_type": "code",
   "execution_count": null,
   "metadata": {},
   "outputs": [],
   "source": [
    "ds.transfer_functions.Image.border=0\n",
    "\n",
    "tf.shade(agg, cmap = [\"white\", \"black\"])"
   ]
  },
  {
   "cell_type": "markdown",
   "metadata": {},
   "source": [
    "As you can see, the most-visited areas of the plane have an interesting structure for this set of parameters. Let's collect some other suitable [white-background, uniform sequential colormaps](http://holoviews.org/user_guide/Colormaps.html) for subsequent plots:"
   ]
  },
  {
   "cell_type": "code",
   "execution_count": null,
   "metadata": {},
   "outputs": [],
   "source": [
    "from colorcet import palette\n",
    "cmaps =  [palette[p][::-1] for p in ['bgy', 'bmw', 'bgyw', 'bmy','fire', 'gray', 'kbc', 'kgy']]\n",
    "cmaps += [inferno[::-1], viridis[::-1]]"
   ]
  },
  {
   "cell_type": "markdown",
   "metadata": {},
   "source": [
    "You can get a variety of trajectories if you use different parameter values, and a variety of different appearances depending on colormap:"
   ]
  },
  {
   "cell_type": "code",
   "execution_count": null,
   "metadata": {},
   "outputs": [],
   "source": [
    "def plot(fn, *args, **kw):\n",
    "    num   = kw.pop('n', n)\n",
    "    cmap  = kw.pop('cmap', viridis)\n",
    "    label = kw.pop('label', False)\n",
    "    traj  = kw.pop('trajectory', trajectory)\n",
    "    \n",
    "    label = (\"{}, \"*(len(args)-1)+\" {}\").format(*args) if label else None\n",
    "    df  = traj(fn, *args, n=num)\n",
    "    cvs = ds.Canvas(plot_width = 400, plot_height = 400)\n",
    "    agg = cvs.points(df, 'x', 'y')\n",
    "    img = tf.shade(agg, cmap=cmap, name=label)\n",
    "    return img\n",
    "\n",
    "cvals = [\n",
    "    (-1.3,   -1.3,   -1.8,   -1.9),\n",
    "    (-1.4,    1.6,    1.0,    0.7),\n",
    "    ( 1.7,    1.7,    0.6,    1.2),\n",
    "    ( 1.7,    0.7,    1.4,    2.0),\n",
    "    (-1.7,    1.8,   -1.9,   -0.4),\n",
    "    ( 1.1,   -1.32,  -1.03,   1.54),\n",
    "    (-1.9,   -1.9,   -1.9,   -1.0),\n",
    "    ( 0.77,   1.99,  -1.31,  -1.45),\n",
    "    ( 0.75,   1.34,  -1.93,   1.00),\n",
    "    (-1.32,  -1.65,   0.74,   1.81),\n",
    "    #( 1.10,  -0.90,   0.10,   0.20),\n",
    "]\n",
    "\n",
    "tf.Images(*[plot(clifford, *cvals[i], cmap=cmaps[i%len(cmaps)]) for i in range(len(cvals))]).cols(5)"
   ]
  },
  {
   "cell_type": "markdown",
   "metadata": {},
   "source": [
    "The above examples are selected for illustration, but randomly sampling the parameter space will show that there are less interesting parameter combinations as well, such as all values being on a single fixed point:"
   ]
  },
  {
   "cell_type": "code",
   "execution_count": null,
   "metadata": {},
   "outputs": [],
   "source": [
    "import numpy.random\n",
    "numpy.random.seed(12)\n",
    "rvals=numpy.random.random((5,4))*4-2\n",
    "\n",
    "tf.Images(*[plot(clifford, *rvals[i], cmap=cmaps[(i+1)%len(cmaps)], label=True) \n",
    "            for i in range(len(rvals))]).cols(5)"
   ]
  },
  {
   "cell_type": "markdown",
   "metadata": {},
   "source": [
    "If you wish, datashader could easily be used to filter out such uninteresting examples, by applying a criterion to the aggregate array before shading and showing only those that remain (e.g. rejecting those where 80% of the pixel bins are empty).\n",
    "\n",
    "\n",
    "## De Jong attractors\n",
    "\n",
    "A related set of attractors was proposed by [Peter de Jong](http://paulbourke.net/fractals/peterdejong):"
   ]
  },
  {
   "cell_type": "code",
   "execution_count": null,
   "metadata": {},
   "outputs": [],
   "source": [
    "@jit\n",
    "def dejong(a, b, c, d, x=0, y=0):\n",
    "    return np.sin(a * y) - np.cos(b * x), \\\n",
    "           np.sin(c * x) - np.cos(d * y)\n",
    "\n",
    "dvals = [\n",
    "    (-1.244, -1.251, -1.815, -1.908),\n",
    "    ( 1.7,    1.7,    0.6,    1.2),\n",
    "    ( 1.4,   -2.3,    2.4,   -2.1),\n",
    "    (-2.7,   -0.09,  -0.86,  -2.2),\n",
    "    (-0.827, -1.637,  1.659, -0.943),\n",
    "    (-2.24,   0.43,  -0.65,  -2.43),\n",
    "    (-2.0,   -2.0,   -1.2,    2.0),\n",
    "    (-0.709,  1.638,  0.452,  1.740),\n",
    "    ( 2.01,  -2.53,   1.61,  -0.33),\n",
    "    ( 1.40,   1.56,   1.40,  -6.56)]\n",
    "\n",
    "tf.Images(*[plot(dejong, *dvals[i], cmap=cmaps[1-i]) for i in range(len(dvals))]).cols(5)"
   ]
  },
  {
   "cell_type": "markdown",
   "metadata": {},
   "source": [
    "# Svensson attractors\n",
    "\n",
    "Another variation was provided by Johnny Svensson:"
   ]
  },
  {
   "cell_type": "code",
   "execution_count": null,
   "metadata": {},
   "outputs": [],
   "source": [
    "@jit\n",
    "def svensson(a, b, c, d, x=0, y=0):\n",
    "    return d * np.sin(a * x) - np.sin(b * y), \\\n",
    "           c * np.cos(a * x) + np.cos(b * y)\n",
    "\n",
    "svals = [\n",
    "    ( 1.5,   -1.8,    1.6,    0.9),\n",
    "    (-0.91,  -1.251, -1.815, -1.908),\n",
    "    (-1.78,   1.29,  -0.09,  -1.18),\n",
    "    (-0.91,  -1.29,  -1.97,  -1.56),\n",
    "    ( 1.40,   1.56,   1.40,  -6.56)]\n",
    "\n",
    "tf.Images(*[plot(svensson, *svals[i], cmap=cmaps[i]) for i in range(len(svals))]).cols(5)"
   ]
  },
  {
   "cell_type": "markdown",
   "metadata": {},
   "source": [
    "# Bedhead Attractor\n",
    "\n",
    "Another variation, from [Ivan Emrich](https://www.deviantart.com/jaguarfacedman) and [Jason Rampe](https://softologyblog.wordpress.com/2017/03/04/2d-strange-attractors):"
   ]
  },
  {
   "cell_type": "code",
   "execution_count": null,
   "metadata": {},
   "outputs": [],
   "source": [
    "@jit\n",
    "def bedhead(a, b, c, d, x=0, y=0):\n",
    "    return np.sin(x*y/b)*y + np.cos(a*x-y), \\\n",
    "           x + np.sin(y)/b\n",
    "\n",
    "bvals = [#a      b         c  d  x0 y0\n",
    "    ( 0.65343,  0.7345345, 0, 0, 1, 1),\n",
    "    (-0.81,    -0.92,      0, 0, 1, 1),\n",
    "    (-0.64,     0.76,      0, 0, 1, 1),\n",
    "   #( 0.06,     0.98,      0, 0, 1, 1),\n",
    "    (-0.67,     0.83,      0, 0, 1, 1)]\n",
    "\n",
    "tf.Images(*[plot(bedhead, *bvals[i], cmap=cmaps[1-i]) for i in range(len(bvals))]).cols(5)"
   ]
  },
  {
   "cell_type": "markdown",
   "metadata": {},
   "source": [
    "# Fractal Dream Attractor\n",
    "\n",
    "Another variation from Clifford A. Pickover, discussed in his book “Chaos In Wonderland”, with parameters from [Jason Rampe](https://softologyblog.wordpress.com/2017/03/04/2d-strange-attractors):"
   ]
  },
  {
   "cell_type": "code",
   "execution_count": null,
   "metadata": {},
   "outputs": [],
   "source": [
    "@jit\n",
    "def fractaldream(a, b, c, d, x=0, y=0):\n",
    "    return np.sin(y*b)+c*np.sin(x*b), \\\n",
    "           np.sin(x*a)+d*np.sin(y*a)\n",
    "\n",
    "fvals = [\n",
    "    (-0.966918,  2.879879,  0.765145, 0.744728, 0.1, 0.1),\n",
    "    (-2.9585,   -2.2965,   -2.8829,  -0.1622,   0.1, 0.1),\n",
    "    (-2.8276,    1.2813,    1.9655,   0.597,    0.1, 0.1),\n",
    "    (-1.1554,   -2.3419,   -1.9799,   2.1828,   0.1, 0.1),\n",
    "    (-1.9956,   -1.4528,   -2.6206,   0.8517,   0.1, 0.1)]\n",
    "\n",
    "tf.Images(*[plot(fractaldream, *fvals[i], cmap=cmaps[i]) for i in range(len(fvals))]).cols(5)"
   ]
  },
  {
   "cell_type": "markdown",
   "metadata": {},
   "source": [
    "## Hopalong attractors\n",
    "\n",
    "A different type of attractor was introduced by Barry Martin, here with code for two variants from [François Pacull](https://aetperf.github.io/2018/08/29/Plotting-Hopalong-attractor-with-Datashader-and-Numba.html).  This one has only three parameters; the `d` parameter here is only here for compatibility with the trajectory function:"
   ]
  },
  {
   "cell_type": "code",
   "execution_count": null,
   "metadata": {},
   "outputs": [],
   "source": [
    "@jit\n",
    "def hopalong_1(a, b, c, d, x, y):\n",
    "    return y - np.sqrt(np.fabs(b * x - c)) * np.sign(x), \\\n",
    "           a - x\n",
    "\n",
    "h1vals = [\n",
    "    (  2.0,    1.0,    0.0,    0),\n",
    "    (-11.0,    0.05,   0.5,    0),\n",
    "    (  2.0,    0.05,   2.0,    0),\n",
    "    (  0.1,    0.1,   20.0,    0),\n",
    "    (  1.1,    0.5,    1.0,    0)]\n",
    "\n",
    "tf.Images(*[plot(hopalong_1, *h1vals[i], cmap=cmaps[1-i]) for i in range(len(h1vals))]).cols(5)"
   ]
  },
  {
   "cell_type": "code",
   "execution_count": null,
   "metadata": {},
   "outputs": [],
   "source": [
    "@jit\n",
    "def hopalong_2(a, b, c, d, x, y):\n",
    "    return y - 1.0 - np.sqrt(np.fabs(b * x - 1.0 - c)) * np.sign(x - 1.0), \\\n",
    "           a - x - 1.0\n",
    "\n",
    "h2vals = [\n",
    "    ( 7.16878197155893, 8.43659746693447,  2.55983412731439, 0),\n",
    "    ( 7.7867514709942,  0.132189802825451, 8.14610984409228, 0),\n",
    "    ( 9.74546888144687, 1.56320227775723,  7.86818214459345, 0)]\n",
    "\n",
    "tf.Images(*[plot(hopalong_2, *h2vals[i], cmap=cmaps[i]) for i in range(len(h2vals))]).cols(5)"
   ]
  },
  {
   "cell_type": "markdown",
   "metadata": {},
   "source": [
    "#  Symmetric Icon Attractor\n",
    "\n",
    "The Hopalong equations often result in symmetric patterns, but a different approach is to *force* the patterns to be symmetric, which is often pleasing. Examples from “Symmetry in Chaos” by Michael Field and Martin Golubitsky, with code and parameters from [Jason Rampe](https://softologyblog.wordpress.com/2017/03/04/2d-strange-attractors):"
   ]
  },
  {
   "cell_type": "code",
   "execution_count": null,
   "metadata": {},
   "outputs": [],
   "source": [
    "@jit\n",
    "def symmetricicon(a, b, g, o, l, d=3, x=0.01, y=0.01):\n",
    "    zzbar = x*x + y*y\n",
    "    p = a*zzbar + l\n",
    "    zreal, zimag = x, y\n",
    "    \n",
    "    for i in range(1, d-1):\n",
    "        za, zb = zreal * x - zimag * y, zimag * x + zreal * y\n",
    "        zreal, zimag = za, zb\n",
    "    \n",
    "    zn = x*zreal - y*zimag\n",
    "    p += b*zn\n",
    "    \n",
    "    return p*x + g*zreal - o*y, \\\n",
    "           p*y - g*zimag + o*x\n",
    "\n",
    "\n",
    "# Same as standard trajectory but with more arguments \n",
    "@jit\n",
    "def trajectory_si(fn, a, b, g, o, l, d, x0=0.01, y0=0.01, n=n):\n",
    "    x, y = np.zeros(n), np.zeros(n)\n",
    "    x[0], y[0] = x0, y0\n",
    "    for i in np.arange(n-1):\n",
    "        x[i+1], y[i+1] = fn(a, b, g, o, l, d, x[i], y[i])\n",
    "    return pd.DataFrame(dict(x=x,y=y))\n",
    "\n",
    "ivals = [ #a   b      g      o       l      d\n",
    "    ( 1.8,    0.0,   1.0,   0.1,   -1.93,   5),\n",
    "    ( 5.0,   -1.0,   1.0,   0.188, -2.5,    5),\n",
    "    (-1.0,    0.1,  -0.82,  0.12,   1.56,   3),\n",
    "    ( 1.806,  0.0,   1.0,   0.0,   -1.806,  5),\n",
    "    (10.0,  -12.0,   1.0,   0.0,   -2.195,  3),\n",
    "    (-2.5,    0.0,   0.9,   0.0,    2.5,    3),\n",
    "    ( 3.0,  -16.79,  1.0,   0.0,   -2.05,   9),\n",
    "    ( 5.0,    1.5,   1.0,   0.0,   -2.7,    6),\n",
    "    (-2.5,    0.0,   0.9,   0.0,    2.409, 23),\n",
    "    ( 1.0,   -0.1,   0.167, 0.0,   -2.08,   7),\n",
    "    ( 2.32,   0.0,   0.75,  0.0,   -2.32,   5),\n",
    "    (-2.0,    0.0,  -0.5,   0.0,    2.6,    5),\n",
    "    ( 2.0,    0.2,   0.1,   0.0,   -2.34,   5),\n",
    "    ( 2.0,    0.0,   1.0,   0.1,   -1.86,   4),\n",
    "    (-1.0,    0.1,  -0.82,  0.0,    1.56,   3),\n",
    "    (-1.0,    0.1,  -0.805, 0.0,    1.5,    3),\n",
    "    (-1.0,    0.03, -0.8,   0.0,    1.455,  3),\n",
    "    (-2.5,   -0.1,   0.9,  -0.15,   2.39,  16)\n",
    "]\n",
    "\n",
    "tf.Images(*[plot(symmetricicon, *ivals[i], cmap=cmaps[(i+1)%len(cmaps)], trajectory=trajectory_si) \n",
    "            for i in range(len(ivals))]).cols(5)"
   ]
  },
  {
   "cell_type": "markdown",
   "metadata": {},
   "source": [
    "## Interactive plotting\n",
    "\n",
    "If you are running a live Python process, you can use Datashader with HoloViews and Bokeh to zoom in and see the individual steps in any of these calculations:"
   ]
  },
  {
   "cell_type": "code",
   "execution_count": null,
   "metadata": {},
   "outputs": [],
   "source": [
    "import holoviews as hv\n",
    "from holoviews.operation.datashader import datashade, dynspread\n",
    "hv.extension('bokeh')\n",
    "\n",
    "dynspread(datashade(hv.Points(trajectory(clifford, *cvals[5])), cmap=viridis[::-1]).options(width=400,height=400))"
   ]
  },
  {
   "cell_type": "markdown",
   "metadata": {},
   "source": [
    "Each time you zoom in in a live process, the data will be reaggregated, which should take a small fraction of a second for 10 million points.  Eventually, once you zoom in enough you should see individual data points, as we are not connecting the points into a trajectory here. \n",
    "\n",
    "You can also try \"connecting the dots\", which will reveal how the particle jumps discretely from one region of the space to another:"
   ]
  },
  {
   "cell_type": "code",
   "execution_count": null,
   "metadata": {},
   "outputs": [],
   "source": [
    "dynspread(datashade(hv.Path([trajectory(clifford, *cvals[5])]), cmap=viridis[::-1]).options(width=400,height=400))"
   ]
  },
  {
   "cell_type": "markdown",
   "metadata": {},
   "source": [
    "Again, if you zoom in on a live server, the plot will update so that you can see the individual traces involved. \n",
    "\n",
    "On the live server, you can also explore to find your own parameter values that generate interesting patterns:"
   ]
  },
  {
   "cell_type": "code",
   "execution_count": null,
   "metadata": {},
   "outputs": [],
   "source": [
    "def hv_clif(a,b,c,d,x0=0,y0=0,n=n):\n",
    "    return datashade(hv.Points(trajectory(clifford, a, b, c, d, x0, y0, n)), cmap=inferno[::-1], dynamic=False)\n",
    "a,b,c,d=cvals[6]\n",
    "\n",
    "dm = hv.DynamicMap(hv_clif, kdims=['a', 'b', 'c', 'd'])\n",
    "dm = dm.redim.range(a=(-2.0, 2.0), b=(-2.0,2.0), c=(-2.0,2.0), d=(-2.0,2.0))\n",
    "dm = dm.redim.default(a=a, b=b, c=c, d=d).options(width=500,height=500)\n",
    "dm"
   ]
  },
  {
   "cell_type": "markdown",
   "metadata": {},
   "source": [
    "Although many of the regions of this four-dimensional parameter space generate uninteresting trajectories such as single points, you can find interesting regions by starting with one of the a,b,c,d tuples of values in previous plots, then click on one slider and use the left and right arrow keys to see how the plot changes as that parameter changes."
   ]
  }
 ],
 "metadata": {
  "language_info": {
   "name": "python",
   "pygments_lexer": "ipython3"
  }
 },
 "nbformat": 4,
 "nbformat_minor": 2
}
