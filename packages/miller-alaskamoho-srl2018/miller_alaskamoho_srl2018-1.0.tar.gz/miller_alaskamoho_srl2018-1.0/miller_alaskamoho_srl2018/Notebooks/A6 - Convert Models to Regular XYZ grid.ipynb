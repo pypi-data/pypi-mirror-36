{
 "cells": [
  {
   "cell_type": "markdown",
   "metadata": {},
   "source": [
    "## Raw data / conversion \n",
    "\n",
    "In this notebook we show how to read the numpy record array that contains the raw data (and the \n",
    "analysis of the predictability of each point). The raw data has been checked to ensure that there are no duplicate points (where duplicates were found due to re-occupation of sites, the moho values have been averaged) and therefore can be triangulated.\n",
    "\n",
    "--- \n",
    "\n",
    "Notebooks in this section:\n",
    "\n",
    "   - [A1 - Raw data, convert and save.ipynb](A1 - Raw data, convert and save.ipynb)\n",
    "   - [A2 - Raw data - plot quality information.ipynb](A2 - Raw data - plot quality information.ipynb)\n",
    "   - [A3 - Triangulating and interpolating raw data.ipynb](A3 - Triangulating and interpolating raw data.ipynb)\n",
    "   - [A4 - Plotting moho and moho slope.ipynb](A4 - Plotting moho and moho slope.ipynb)\n",
    "   - [A5 - Interactive 3D plot.ipynb](A5 - Interactive 3D plot.ipynb)\n",
    "   - [A6 - Convert Models to Regular XYZ grid.ipynb](A6 - Convert Models to Regular XYZ grid.ipynb)\n"
   ]
  },
  {
   "cell_type": "code",
   "execution_count": 1,
   "metadata": {},
   "outputs": [],
   "source": [
    "import numpy as np\n",
    "import miller_alaskamoho_srl2018 as alaskamoho"
   ]
  },
  {
   "cell_type": "code",
   "execution_count": 2,
   "metadata": {},
   "outputs": [],
   "source": [
    "# Model to convert\n",
    "\n",
    "moho_model = alaskamoho.MohoModel_opt\n",
    "moho_data_filename=\"AlaskaMohoOpt\""
   ]
  },
  {
   "cell_type": "code",
   "execution_count": 3,
   "metadata": {},
   "outputs": [],
   "source": [
    "## Regular grid of lon/lat values for \"easy\" GMT plotting\n",
    "\n",
    "lons = np.linspace(-175,-130,256)\n",
    "lats = np.linspace(50, 72, 256)\n",
    "\n",
    "reg_lons, reg_lats = np.meshgrid(lons, lats)\n",
    "\n",
    "quality  = moho_model.quality_at_lonlat_degrees(reg_lons, reg_lats, order=1)\n",
    "reg_moho = moho_model.value_at_lonlat_degrees(reg_lons, reg_lats, order=1)\n",
    "\n",
    "\n",
    "a = np.transpose(np.stack((reg_lons.reshape(-1), \n",
    "                           reg_lats.reshape(-1), \n",
    "                           reg_moho.reshape(-1), \n",
    "                           quality.reshape(-1))))\n",
    "\n",
    "np.savetxt(\"{}-RegGrid.XYZ\".format(moho_data_filename), a, header=\"Longitude Latitude Depth Quality\")\n"
   ]
  }
 ],
 "metadata": {
  "kernel_info": {
   "name": "python2"
  },
  "kernelspec": {
   "display_name": "Python 2",
   "language": "python",
   "name": "python2"
  },
  "language_info": {
   "codemirror_mode": {
    "name": "ipython",
    "version": 2
   },
   "file_extension": ".py",
   "mimetype": "text/x-python",
   "name": "python",
   "nbconvert_exporter": "python",
   "pygments_lexer": "ipython2",
   "version": "2.7.15"
  },
  "nteract": {
   "version": "0.9.1"
  }
 },
 "nbformat": 4,
 "nbformat_minor": 2
}
